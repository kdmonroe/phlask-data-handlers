{
 "cells": [
  {
   "cell_type": "code",
   "execution_count": 3,
   "metadata": {},
   "outputs": [],
   "source": [
    "import pandas as pd\n",
    "import pandera as pa\n",
    "\n",
    "from pandera import Check, Column, DataFrameSchema\n",
    "schema = DataFrameSchema({\"column1\": Column(str, coerce=True)})\n",
    "schema = pa.DataFrameSchema(\n",
    "    columns={\n",
    "        \"int_column\": Column(int),\n",
    "        \"float_column\": Column(float, Check.greater_than(0)),\n",
    "        \"str_column\": Column(str, Check.equal_to(\"a\")),\n",
    "        \"date_column\": Column(pa.DateTime),\n",
    "    },\n",
    "    strict=True\n",
    ")\n",
    "\n",
    "df = pd.DataFrame({\n",
    "    \"int_column\": [\"a\", \"b\", \"c\"],\n",
    "    \"float_column\": [0, 1, 2],\n",
    "    \"str_column\": [\"a\", \"b\", \"d\"],\n",
    "    \"unknown_column\": None,\n",
    "})"
   ]
  },
  {
   "cell_type": "code",
   "execution_count": 4,
   "metadata": {},
   "outputs": [
    {
     "name": "stdout",
     "output_type": "stream",
     "text": [
      "Schema errors and failure cases:\n",
      "    schema_context        column                check check_number   \n",
      "0  DataFrameSchema          None  column_in_dataframe         None  \\\n",
      "1  DataFrameSchema          None     column_in_schema         None   \n",
      "2           Column    int_column       dtype('int64')         None   \n",
      "3           Column  float_column     dtype('float64')         None   \n",
      "4           Column  float_column      greater_than(0)            0   \n",
      "5           Column    str_column          equal_to(a)            0   \n",
      "6           Column    str_column          equal_to(a)            0   \n",
      "\n",
      "     failure_case index  \n",
      "0     date_column  None  \n",
      "1  unknown_column  None  \n",
      "2          object  None  \n",
      "3           int64  None  \n",
      "4               0     0  \n",
      "5               b     1  \n",
      "6               d     2  \n",
      "\n",
      "DataFrame object that failed validation:\n",
      "  int_column  float_column str_column unknown_column\n",
      "0          a             0          a           None\n",
      "1          b             1          b           None\n",
      "2          c             2          d           None\n"
     ]
    }
   ],
   "source": [
    "try:\n",
    "    schema.validate(df, lazy=True)\n",
    "except pa.errors.SchemaErrors as err:\n",
    "    print(\"Schema errors and failure cases:\")\n",
    "    print(err.failure_cases)\n",
    "    print(\"\\nDataFrame object that failed validation:\")\n",
    "    print(err.data)"
   ]
  },
  {
   "cell_type": "code",
   "execution_count": null,
   "metadata": {},
   "outputs": [],
   "source": []
  }
 ],
 "metadata": {
  "kernelspec": {
   "display_name": "Python 3.11.0 ('phlask_dev')",
   "language": "python",
   "name": "python3"
  },
  "language_info": {
   "codemirror_mode": {
    "name": "ipython",
    "version": 3
   },
   "file_extension": ".py",
   "mimetype": "text/x-python",
   "name": "python",
   "nbconvert_exporter": "python",
   "pygments_lexer": "ipython3",
   "version": "3.11.0"
  },
  "orig_nbformat": 4,
  "vscode": {
   "interpreter": {
    "hash": "1675575650751888625ff4172dbcce68bfb112195147a5e9a1ca3da4a9a361f1"
   }
  }
 },
 "nbformat": 4,
 "nbformat_minor": 2
}
